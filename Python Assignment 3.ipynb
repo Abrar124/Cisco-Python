{
 "cells": [
  {
   "cell_type": "code",
   "execution_count": 1,
   "metadata": {},
   "outputs": [
    {
     "name": "stdout",
     "output_type": "stream",
     "text": [
      "Enter first value: 3\n",
      "Enter second value: 4\n",
      "\n",
      "Enter 1 to do addition :\n",
      "Enter 2 to do subtraction :\n",
      "Enter 3 to do multiplication :\n",
      "Enter 4 to do division :\n",
      "Enter 5 to do power: \n",
      "Enter your choice: 2\n",
      "\n",
      "Answer : -1\n"
     ]
    }
   ],
   "source": [
    "# Task 1 #   Make a calculator using Python with addition , subtraction , multiplication , division and power.\n",
    "\n",
    "ans = None\n",
    "num1 = int(input(\"Enter first value: \"))\n",
    "num2 = int(input(\"Enter second value: \"))\n",
    "\n",
    "print(\"\\nEnter 1 to do addition :\")\n",
    "print(\"Enter 2 to do subtraction :\")\n",
    "print(\"Enter 3 to do multiplication :\")\n",
    "print(\"Enter 4 to do division :\")\n",
    "print(\"Enter 5 to do power: \")\n",
    "choice = int(input(\"Enter your choice: \"))\n",
    "\n",
    "if choice == 1:\n",
    "    ans = num1+num2\n",
    "elif choice == 2:\n",
    "    ans = num1-num2\n",
    "elif choice == 3:\n",
    "    ans = num1*num2\n",
    "elif choice == 4:\n",
    "    ans = num1/num2\n",
    "elif choice == 5:\n",
    "    ans = num1**num2\n",
    "    \n",
    "print(f\"\\nAnswer : {ans}\")"
   ]
  },
  {
   "cell_type": "code",
   "execution_count": 6,
   "metadata": {},
   "outputs": [
    {
     "data": {
      "text/plain": [
       "[88, 91, 67]"
      ]
     },
     "execution_count": 6,
     "metadata": {},
     "output_type": "execute_result"
    }
   ],
   "source": [
    "# Task 2 #   Write a program to check if there is any numeric value in list using for loop.\n",
    "\n",
    "lst =[\"Cat\", \"Horse\",88,\"Kamran\",91,42.5,67,\"USA\"]\n",
    "[integer for integer in lst if isinstance(integer, int)]\n"
   ]
  },
  {
   "cell_type": "code",
   "execution_count": 3,
   "metadata": {},
   "outputs": [
    {
     "name": "stdout",
     "output_type": "stream",
     "text": [
      "\n",
      "Defined dictionary\n",
      "\n",
      "The patient's first name is  Arman\n",
      "The patient's last name is  Malik\n",
      "The patient's problem is  Singer\n",
      "\n",
      "Updated dictionary\n",
      "\n",
      "The patient's first name is Arman\n",
      "The patient's last name is Malik\n",
      "The patient's problem is Singer\n",
      "The patient's fee is 1000\n",
      "The patient's discount is 20 Dollars\n"
     ]
    }
   ],
   "source": [
    "# Task 3 #   Write a program to check if there is any numeric value in list using for loop.\n",
    "\n",
    "Patients = [{\"first name\" : \"Ahmed\" , \"last name\" : \"Fareed\" , \"problem\" : \"Handsome\"},\n",
    "            {\"first name\" : \"Kamran\" , \"last name\" : \"Abid\" , \"problem\" : \"Attracted\"},\n",
    "           {\"first name\" : \"Arman\" , \"last name\" : \"Malik\" , \"problem\" : \"Singer\"}]\n",
    "\n",
    "print(\"\\nDefined dictionary\\n\")\n",
    "\n",
    "for key_name,key_value in Patients[2].items():\n",
    "    print(\"The patient's \" +key_name+ \" is \",key_value)\n",
    "\n",
    "print(\"\\nUpdated dictionary\\n\")\n",
    "Patients[2].update([(\"fee\",1000),(\"discount\",\"20 Dollars\")])\n",
    "\n",
    "for key_name,key_value in Patients[2].items():\n",
    "    print(\"The patient's {} is {}\".format(key_name,key_value))"
   ]
  },
  {
   "cell_type": "code",
   "execution_count": 4,
   "metadata": {},
   "outputs": [
    {
     "name": "stdout",
     "output_type": "stream",
     "text": [
      "Sum = 1006.3\n"
     ]
    }
   ],
   "source": [
    "# Task 4 #   Write a Python program to sum all the numeric items in a dictionary.\n",
    "\n",
    "result = 0\n",
    "dic = {1: 2 ,\n",
    "           2: \"Kamran\", \n",
    "           3: 4.3, \n",
    "           4:\"Not numerical\",\n",
    "           5: 1000}\n",
    "\n",
    "for value in dic.values():\n",
    "    if type(value) == int or type(value) == float:\n",
    "        result = result + value        \n",
    "        \n",
    "print(f\"Sum = {result}\")"
   ]
  },
  {
   "cell_type": "code",
   "execution_count": 5,
   "metadata": {},
   "outputs": [
    {
     "name": "stdout",
     "output_type": "stream",
     "text": [
      "Please enter patient id : 01\n",
      "ID dose not exist\n"
     ]
    }
   ],
   "source": [
    "# Task 5 #   Write a Python script to check if a given key already exists in a dictionary.\n",
    "\n",
    "Patients ={\"Patient 01\" : {\"first name\" : \"Ahmed\" , \"last name\" : \"Fareed\" , \"problem\" : \"Handsome\"},\n",
    "           \"Patient 02\" : {\"first name\" : \"Kamran\" , \"last name\" : \"Abid\" , \"problem\" : \"Attracted\"},\n",
    "           \"Patient 03\" : {\"first name\" : \"Arman\" , \"last name\" : \"Malik\" , \"problem\" : \"Singer\"}}\n",
    "\n",
    "Find_Key = input(\"Please enter patient id : \")\n",
    "\n",
    "if Find_Key in Patients:\n",
    "    print(\"\\nID exists\\n\")\n",
    "    for key_name,key_value in Patients[Find_Key].items():\n",
    "        print(\"The patient's \" +key_name+ \" is \",key_value)\n",
    "else:\n",
    "    print(\"ID dose not exist\")"
   ]
  },
  {
   "cell_type": "code",
   "execution_count": null,
   "metadata": {},
   "outputs": [],
   "source": []
  }
 ],
 "metadata": {
  "kernelspec": {
   "display_name": "Python 3",
   "language": "python",
   "name": "python3"
  },
  "language_info": {
   "codemirror_mode": {
    "name": "ipython",
    "version": 3
   },
   "file_extension": ".py",
   "mimetype": "text/x-python",
   "name": "python",
   "nbconvert_exporter": "python",
   "pygments_lexer": "ipython3",
   "version": "3.7.4"
  }
 },
 "nbformat": 4,
 "nbformat_minor": 2
}
