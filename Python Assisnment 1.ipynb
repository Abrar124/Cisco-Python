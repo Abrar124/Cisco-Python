{
 "cells": [
  {
   "cell_type": "code",
   "execution_count": 1,
   "metadata": {},
   "outputs": [
    {
     "name": "stdout",
     "output_type": "stream",
     "text": [
      "   Twinkle, twinkle, little star,\n",
      "\tHow I wonder what you are!\n",
      "\t   Up above the world so high,\n",
      "      Like a diamond in the sky.\n",
      "   Twinkle, twinkle, little star,\n",
      "\tHow I wonder what you are\n"
     ]
    }
   ],
   "source": [
    "# Task1 #  Write a Python Program to print the following string in a specific format.\n",
    "\n",
    "\"\"\"\n",
    "Twinkle, twinkle, little star, \n",
    "\tHow I wonder what you are! \n",
    "\t\tUp above the world so high, \n",
    "   Like a diamond in the sky. \n",
    "Twinkle, twinkle, little star, \n",
    "\tHow I wonder what you are!\n",
    "\"\"\"\n",
    "\n",
    "print(\"   Twinkle, twinkle, little star,\")\n",
    "print(\"\\tHow I wonder what you are!\")\n",
    "print(\"\\t   Up above the world so high,\")\n",
    "print(\"      Like a diamond in the sky.\")\n",
    "print(\"   Twinkle, twinkle, little star,\")\n",
    "print(\"\\tHow I wonder what you are\")"
   ]
  },
  {
   "cell_type": "code",
   "execution_count": 2,
   "metadata": {},
   "outputs": [
    {
     "name": "stdout",
     "output_type": "stream",
     "text": [
      "Python version : 3.7.4 (default, Aug  9 2019, 18:34:13) [MSC v.1915 64 bit (AMD64)]\n",
      "Version Information :  sys.version_info(major=3, minor=7, micro=4, releaselevel='final', serial=0)\n"
     ]
    }
   ],
   "source": [
    "# Task 2 #  Write a program to get the Python version you are using.\n",
    "\n",
    "import sys\n",
    "\n",
    "print (\"Python version : \" + sys.version + \"\\nVersion Information : \",sys.version_info)"
   ]
  },
  {
   "cell_type": "code",
   "execution_count": 3,
   "metadata": {},
   "outputs": [
    {
     "name": "stdout",
     "output_type": "stream",
     "text": [
      "2019-11-22 22:54:38.270679\n"
     ]
    }
   ],
   "source": [
    "# Task 3 #  Write a Python program to display current date & time.\n",
    "\n",
    "import datetime\n",
    "\n",
    "print(str(datetime.datetime.now()))"
   ]
  },
  {
   "cell_type": "code",
   "execution_count": 4,
   "metadata": {},
   "outputs": [
    {
     "name": "stdout",
     "output_type": "stream",
     "text": [
      "Please input the radius of the circle : 6\n",
      "\n",
      "The Area of the circle is :  113.14285714285714\n"
     ]
    }
   ],
   "source": [
    "# Task 4 #  Write a python program which accepts the radius of the circle and commute the area.\n",
    "\n",
    "Radius = float(input(\"Please input the radius of the circle : \"))\n",
    "Area = (22/7)*(Radius**2)\n",
    "print(\"\\nThe Area of the circle is : \",Area)"
   ]
  },
  {
   "cell_type": "code",
   "execution_count": 5,
   "metadata": {},
   "outputs": [
    {
     "name": "stdout",
     "output_type": "stream",
     "text": [
      "Your first name please : Muhammad Ibrar\n",
      "Your last name please : Khurshid\n",
      "\n",
      "Real name is : Muhammad Ibrar Khurshid\n",
      "Reverse name is : Khurshid Muhammad Ibrar\n"
     ]
    }
   ],
   "source": [
    "# Task 5 #  Write a program which takes user's first & last name & print it them in reverse order with a space between them.\n",
    "\n",
    "FirstName = input(\"Your first name please : \")\n",
    "LastName = input(\"Your last name please : \")\n",
    "RealName = FirstName + \" \" + LastName\n",
    "ReverseName = LastName + \" \" + FirstName\n",
    "print(\"\\nReal name is : \" +RealName+ \"\\nReverse name is : \" +ReverseName)"
   ]
  },
  {
   "cell_type": "code",
   "execution_count": 6,
   "metadata": {},
   "outputs": [
    {
     "name": "stdout",
     "output_type": "stream",
     "text": [
      "1st Number : 3212\n",
      "2nd Number : 6744\n",
      "\n",
      "The sum is : \n"
     ]
    },
    {
     "data": {
      "text/plain": [
       "9956"
      ]
     },
     "execution_count": 6,
     "metadata": {},
     "output_type": "execute_result"
    }
   ],
   "source": [
    "# Task 6 #  Write a python program which takes two inputs from user and print the in addition\n",
    "\n",
    "First_number = input(\"1st Number : \")\n",
    "Second_number = input(\"2nd Number : \")\n",
    "First_number = int(First_number)\n",
    "Second_number = int(Second_number)\n",
    "Addition = First_number + Second_number\n",
    "print(\"\\nThe sum is : \")\n",
    "Addition"
   ]
  },
  {
   "cell_type": "code",
   "execution_count": null,
   "metadata": {},
   "outputs": [],
   "source": []
  }
 ],
 "metadata": {
  "kernelspec": {
   "display_name": "Python 3",
   "language": "python",
   "name": "python3"
  },
  "language_info": {
   "codemirror_mode": {
    "name": "ipython",
    "version": 3
   },
   "file_extension": ".py",
   "mimetype": "text/x-python",
   "name": "python",
   "nbconvert_exporter": "python",
   "pygments_lexer": "ipython3",
   "version": "3.7.4"
  }
 },
 "nbformat": 4,
 "nbformat_minor": 2
}
